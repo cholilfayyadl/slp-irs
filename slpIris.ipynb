{
 "cells": [
  {
   "cell_type": "markdown",
   "id": "6987910b",
   "metadata": {},
   "source": [
    "# Classification Eyes Iris"
   ]
  },
  {
   "cell_type": "markdown",
   "id": "92ee03b3",
   "metadata": {},
   "source": [
    "## Import Library"
   ]
  },
  {
   "cell_type": "code",
   "execution_count": 1,
   "id": "b6b6a364",
   "metadata": {},
   "outputs": [],
   "source": [
    "import pandas as pd\n",
    "import numpy as np\n",
    "import matplotlib.pyplot as plt\n",
    "from sklearn.model_selection import train_test_split"
   ]
  },
  {
   "cell_type": "markdown",
   "id": "36137490",
   "metadata": {},
   "source": [
    "### Data Reading"
   ]
  },
  {
   "cell_type": "code",
   "execution_count": 2,
   "id": "fe85707a",
   "metadata": {},
   "outputs": [
    {
     "data": {
      "text/html": [
       "<div>\n",
       "<style scoped>\n",
       "    .dataframe tbody tr th:only-of-type {\n",
       "        vertical-align: middle;\n",
       "    }\n",
       "\n",
       "    .dataframe tbody tr th {\n",
       "        vertical-align: top;\n",
       "    }\n",
       "\n",
       "    .dataframe thead th {\n",
       "        text-align: right;\n",
       "    }\n",
       "</style>\n",
       "<table border=\"1\" class=\"dataframe\">\n",
       "  <thead>\n",
       "    <tr style=\"text-align: right;\">\n",
       "      <th></th>\n",
       "      <th>x1</th>\n",
       "      <th>x2</th>\n",
       "      <th>x3</th>\n",
       "      <th>x4</th>\n",
       "      <th>target</th>\n",
       "    </tr>\n",
       "  </thead>\n",
       "  <tbody>\n",
       "    <tr>\n",
       "      <th>0</th>\n",
       "      <td>5.1</td>\n",
       "      <td>3.5</td>\n",
       "      <td>1.4</td>\n",
       "      <td>0.2</td>\n",
       "      <td>Iris-setosa</td>\n",
       "    </tr>\n",
       "    <tr>\n",
       "      <th>1</th>\n",
       "      <td>4.9</td>\n",
       "      <td>3.0</td>\n",
       "      <td>1.4</td>\n",
       "      <td>0.2</td>\n",
       "      <td>Iris-setosa</td>\n",
       "    </tr>\n",
       "    <tr>\n",
       "      <th>2</th>\n",
       "      <td>4.7</td>\n",
       "      <td>3.2</td>\n",
       "      <td>1.3</td>\n",
       "      <td>0.2</td>\n",
       "      <td>Iris-setosa</td>\n",
       "    </tr>\n",
       "    <tr>\n",
       "      <th>3</th>\n",
       "      <td>4.6</td>\n",
       "      <td>3.1</td>\n",
       "      <td>1.5</td>\n",
       "      <td>0.2</td>\n",
       "      <td>Iris-setosa</td>\n",
       "    </tr>\n",
       "    <tr>\n",
       "      <th>4</th>\n",
       "      <td>5.0</td>\n",
       "      <td>3.6</td>\n",
       "      <td>1.4</td>\n",
       "      <td>0.2</td>\n",
       "      <td>Iris-setosa</td>\n",
       "    </tr>\n",
       "  </tbody>\n",
       "</table>\n",
       "</div>"
      ],
      "text/plain": [
       "    x1   x2   x3   x4       target\n",
       "0  5.1  3.5  1.4  0.2  Iris-setosa\n",
       "1  4.9  3.0  1.4  0.2  Iris-setosa\n",
       "2  4.7  3.2  1.3  0.2  Iris-setosa\n",
       "3  4.6  3.1  1.5  0.2  Iris-setosa\n",
       "4  5.0  3.6  1.4  0.2  Iris-setosa"
      ]
     },
     "execution_count": 2,
     "metadata": {},
     "output_type": "execute_result"
    }
   ],
   "source": [
    "df = pd.read_csv('data_iris.csv')\n",
    "df.head()"
   ]
  },
  {
   "cell_type": "markdown",
   "id": "71d9c113",
   "metadata": {},
   "source": [
    "#### iniasialisasi Target to binary"
   ]
  },
  {
   "cell_type": "code",
   "execution_count": null,
   "id": "f9c63563",
   "metadata": {},
   "outputs": [
    {
     "data": {
      "text/html": [
       "<div>\n",
       "<style scoped>\n",
       "    .dataframe tbody tr th:only-of-type {\n",
       "        vertical-align: middle;\n",
       "    }\n",
       "\n",
       "    .dataframe tbody tr th {\n",
       "        vertical-align: top;\n",
       "    }\n",
       "\n",
       "    .dataframe thead th {\n",
       "        text-align: right;\n",
       "    }\n",
       "</style>\n",
       "<table border=\"1\" class=\"dataframe\">\n",
       "  <thead>\n",
       "    <tr style=\"text-align: right;\">\n",
       "      <th></th>\n",
       "      <th>x1</th>\n",
       "      <th>x2</th>\n",
       "      <th>x3</th>\n",
       "      <th>x4</th>\n",
       "      <th>target</th>\n",
       "      <th>target_binary</th>\n",
       "    </tr>\n",
       "  </thead>\n",
       "  <tbody>\n",
       "    <tr>\n",
       "      <th>0</th>\n",
       "      <td>5.1</td>\n",
       "      <td>3.5</td>\n",
       "      <td>1.4</td>\n",
       "      <td>0.2</td>\n",
       "      <td>Iris-setosa</td>\n",
       "      <td>0</td>\n",
       "    </tr>\n",
       "    <tr>\n",
       "      <th>1</th>\n",
       "      <td>4.9</td>\n",
       "      <td>3.0</td>\n",
       "      <td>1.4</td>\n",
       "      <td>0.2</td>\n",
       "      <td>Iris-setosa</td>\n",
       "      <td>0</td>\n",
       "    </tr>\n",
       "    <tr>\n",
       "      <th>2</th>\n",
       "      <td>4.7</td>\n",
       "      <td>3.2</td>\n",
       "      <td>1.3</td>\n",
       "      <td>0.2</td>\n",
       "      <td>Iris-setosa</td>\n",
       "      <td>0</td>\n",
       "    </tr>\n",
       "    <tr>\n",
       "      <th>3</th>\n",
       "      <td>4.6</td>\n",
       "      <td>3.1</td>\n",
       "      <td>1.5</td>\n",
       "      <td>0.2</td>\n",
       "      <td>Iris-setosa</td>\n",
       "      <td>0</td>\n",
       "    </tr>\n",
       "    <tr>\n",
       "      <th>4</th>\n",
       "      <td>5.0</td>\n",
       "      <td>3.6</td>\n",
       "      <td>1.4</td>\n",
       "      <td>0.2</td>\n",
       "      <td>Iris-setosa</td>\n",
       "      <td>0</td>\n",
       "    </tr>\n",
       "    <tr>\n",
       "      <th>...</th>\n",
       "      <td>...</td>\n",
       "      <td>...</td>\n",
       "      <td>...</td>\n",
       "      <td>...</td>\n",
       "      <td>...</td>\n",
       "      <td>...</td>\n",
       "    </tr>\n",
       "    <tr>\n",
       "      <th>95</th>\n",
       "      <td>5.7</td>\n",
       "      <td>3.0</td>\n",
       "      <td>4.2</td>\n",
       "      <td>1.2</td>\n",
       "      <td>Iris-versicolor</td>\n",
       "      <td>1</td>\n",
       "    </tr>\n",
       "    <tr>\n",
       "      <th>96</th>\n",
       "      <td>5.7</td>\n",
       "      <td>2.9</td>\n",
       "      <td>4.2</td>\n",
       "      <td>1.3</td>\n",
       "      <td>Iris-versicolor</td>\n",
       "      <td>1</td>\n",
       "    </tr>\n",
       "    <tr>\n",
       "      <th>97</th>\n",
       "      <td>6.2</td>\n",
       "      <td>2.9</td>\n",
       "      <td>4.3</td>\n",
       "      <td>1.3</td>\n",
       "      <td>Iris-versicolor</td>\n",
       "      <td>1</td>\n",
       "    </tr>\n",
       "    <tr>\n",
       "      <th>98</th>\n",
       "      <td>5.1</td>\n",
       "      <td>2.5</td>\n",
       "      <td>3.0</td>\n",
       "      <td>1.1</td>\n",
       "      <td>Iris-versicolor</td>\n",
       "      <td>1</td>\n",
       "    </tr>\n",
       "    <tr>\n",
       "      <th>99</th>\n",
       "      <td>5.7</td>\n",
       "      <td>2.8</td>\n",
       "      <td>4.1</td>\n",
       "      <td>1.3</td>\n",
       "      <td>Iris-versicolor</td>\n",
       "      <td>1</td>\n",
       "    </tr>\n",
       "  </tbody>\n",
       "</table>\n",
       "<p>100 rows × 6 columns</p>\n",
       "</div>"
      ],
      "text/plain": [
       "     x1   x2   x3   x4           target  target_binary\n",
       "0   5.1  3.5  1.4  0.2      Iris-setosa              0\n",
       "1   4.9  3.0  1.4  0.2      Iris-setosa              0\n",
       "2   4.7  3.2  1.3  0.2      Iris-setosa              0\n",
       "3   4.6  3.1  1.5  0.2      Iris-setosa              0\n",
       "4   5.0  3.6  1.4  0.2      Iris-setosa              0\n",
       "..  ...  ...  ...  ...              ...            ...\n",
       "95  5.7  3.0  4.2  1.2  Iris-versicolor              1\n",
       "96  5.7  2.9  4.2  1.3  Iris-versicolor              1\n",
       "97  6.2  2.9  4.3  1.3  Iris-versicolor              1\n",
       "98  5.1  2.5  3.0  1.1  Iris-versicolor              1\n",
       "99  5.7  2.8  4.1  1.3  Iris-versicolor              1\n",
       "\n",
       "[100 rows x 6 columns]"
      ]
     },
     "execution_count": 3,
     "metadata": {},
     "output_type": "execute_result"
    }
   ],
   "source": [
    "# mapping into binary class\n",
    "target_mapping = {\n",
    "    'Iris-setosa': 0,\n",
    "    'Iris-versicolor': 1\n",
    "}\n",
    "\n",
    "df['target_binary'] = df['target'].map(target_mapping)\n",
    "df"
   ]
  },
  {
   "cell_type": "markdown",
   "id": "50e7ec3b",
   "metadata": {},
   "source": [
    "### Data Splitting"
   ]
  },
  {
   "cell_type": "code",
   "execution_count": 4,
   "id": "71118862",
   "metadata": {},
   "outputs": [],
   "source": [
    "y = df[\"target_binary\"]\n",
    "X = df[[\"x1\",\"x2\",\"x3\",\"x4\"]]"
   ]
  },
  {
   "cell_type": "markdown",
   "id": "8067c60b",
   "metadata": {},
   "source": [
    "#### Pembagian Data Train dan Validasi\n",
    "dibagi menjadi 80% untuk Training dan 20% untuk training"
   ]
  },
  {
   "cell_type": "code",
   "execution_count": null,
   "id": "94e4cbec",
   "metadata": {},
   "outputs": [
    {
     "name": "stdout",
     "output_type": "stream",
     "text": [
      "Jumlah baris X_train: 80\n",
      "Jumlah baris X_val: 20\n",
      "Jumlah baris y_train: 80\n",
      "Jumlah baris y_val: 20\n"
     ]
    }
   ],
   "source": [
    "#  baris untuk pelatihan\n",
    "X0train = X.loc[0:39]\n",
    "X1train = X.loc[50:89]\n",
    "\n",
    "y0train = y.loc[0:39]\n",
    "y1train = y.loc[50:89]\n",
    "\n",
    "X0val = X.loc[40:49]\n",
    "X1val = X.loc[90:99]\n",
    "\n",
    "y0val = y.loc[40:49]\n",
    "y1val = y.loc[90:99]\n",
    "\n",
    "# Ambil 80 pertama untuk data latih\n",
    "X_train = pd.concat([X0train,X1train]).values\n",
    "y_train = pd.concat([y0train,y1train]).values\n",
    "\n",
    "X_val = pd.concat([X0val,X1val]).values\n",
    "y_val = pd.concat([y0val,y1val]).values\n",
    "\n",
    "# Verifikasi ukurannya\n",
    "print(f\"Jumlah baris X_train: {len(X_train)}\")  # Output: 80\n",
    "print(f\"Jumlah baris X_val: {len(X_val)}\")    # Output: 20\n",
    "print(f\"Jumlah baris y_train: {len(y_train)}\")  # Output: 80\n",
    "print(f\"Jumlah baris y_val: {len(y_val)}\")    # Output: 20"
   ]
  },
  {
   "cell_type": "markdown",
   "id": "cc4a14fe",
   "metadata": {},
   "source": [
    "## Inisialisasi Fungsi"
   ]
  },
  {
   "cell_type": "code",
   "execution_count": 6,
   "id": "74cd6ce5",
   "metadata": {},
   "outputs": [],
   "source": [
    "def initialize_weights():\n",
    "    weight = np.array([0.5, 0.5, 0.5, 0.5])\n",
    "    bias = 0.5\n",
    "    return weight, bias\n",
    "def calculate_z(X, weight, bias):\n",
    "    return np.dot(X, weight) + bias\n",
    "def sigmoid(z):\n",
    "    return 1 / (1 + np.exp(-z))\n",
    "def update_weights(weight, bias, X, y_true, y_pred, lr):\n",
    "    common_derivative = 2 * (y_pred - y_true) * y_pred * (1 - y_pred)\n",
    "    \n",
    "    dw = X * common_derivative\n",
    "    db = common_derivative\n",
    "    \n",
    "    weight = weight - lr * dw\n",
    "    bias = bias - lr * db\n",
    "    \n",
    "    return weight, bias"
   ]
  },
  {
   "cell_type": "markdown",
   "id": "8eab6613",
   "metadata": {},
   "source": [
    "## Function Single Perceptron"
   ]
  },
  {
   "cell_type": "code",
   "execution_count": 9,
   "id": "ce7e09a2",
   "metadata": {},
   "outputs": [],
   "source": [
    "def Spl(X_train, Y_train, X_val, Y_val, learningRate=0.1, epoch=5):\n",
    "    w, b = initialize_weights()\n",
    "    train_losses, val_losses = [], []\n",
    "    train_accuracies, val_accuracies = [], []\n",
    "    \n",
    "    print(\"--- Training ---\")\n",
    "    for e in range(epoch):\n",
    "        correct_preds = 0\n",
    "        train_loss = 0\n",
    "        for i in range(len(X_train)):\n",
    "            z_i = calculate_z(X_train[i], w, b)\n",
    "            y_pred_i = sigmoid(z_i)\n",
    "            preds = (y_pred_i >= 0.5).astype(int)\n",
    "            if preds == Y_train[i]:\n",
    "                correct_preds += 1\n",
    "            E = y_pred_i - Y_train[i]\n",
    "            train_loss += E ** 2\n",
    "            w, b = update_weights(w, b, X_train[i], Y_train[i], y_pred_i, learningRate)    \n",
    "\n",
    "        train_acc = (correct_preds / len(X_train)) * 100\n",
    "        train_losses.append(train_loss / len(X_train))\n",
    "        train_accuracies.append(train_acc)\n",
    "            \n",
    "        val_preds = 0\n",
    "        val_loss = 0\n",
    "        for i in range(len(X_val)):\n",
    "            z_i = calculate_z(X_val[i], w, b)\n",
    "            y_pred_i = sigmoid(z_i)\n",
    "            pred = (y_pred_i >= 0.5).astype(int)\n",
    "            if pred == Y_val[i]:\n",
    "                val_preds += 1\n",
    "            E = y_pred_i - Y_val[i]\n",
    "            val_loss += E**2\n",
    "\n",
    "        val_acc = (val_preds / len(X_val)) * 100\n",
    "        val_losses.append(val_loss / len(X_val))\n",
    "        val_accuracies.append(val_acc)\n",
    "\n",
    "        print(f\"Epoch {e+1}/{epoch} | Train Loss: {train_loss:.4f}, Train Acc: {train_acc:.2f}% | Val Loss: {val_loss:.4f}, Val Acc: {val_acc:.2f}%\")\n",
    "    \n",
    "    print(\"~~~~~ Selesi ~~~~~\")\n",
    "\n",
    "    epoch_range = range(1, epoch + 1)\n",
    "    \n",
    "    plt.figure(figsize=(12, 5))\n",
    "\n",
    "    plt.subplot(1, 2, 1)\n",
    "    plt.plot(epoch_range, train_losses, marker='o', linestyle='-', label=\"Train Loss\")\n",
    "    plt.plot(epoch_range, val_losses, marker='s', linestyle='--', label=\"Validation Loss\")\n",
    "    plt.xlabel(\"Epoch\")\n",
    "    plt.ylabel(\"SSE Loss\")\n",
    "    plt.title(\"Loss over Epochs\")\n",
    "    plt.legend()\n",
    "    plt.grid(True)\n",
    "\n",
    "    plt.subplot(1, 2, 2)\n",
    "    plt.plot(epoch_range, train_accuracies, marker='o', linestyle='-', label=\"Train Accuracy\")\n",
    "    plt.plot(epoch_range, val_accuracies, marker='s', linestyle='--', label=\"Validation Accuracy\")\n",
    "    plt.xlabel(\"Epoch\")\n",
    "    plt.ylabel(\"Accuracy (%)\")\n",
    "    plt.title(\"Accuracy over Epochs\")\n",
    "    plt.legend()\n",
    "    plt.grid(True)\n",
    "\n",
    "    plt.tight_layout()\n",
    "    plt.show()\n",
    "    \n",
    "    return w, b, train_losses, val_losses, train_accuracies, val_accuracies"
   ]
  },
  {
   "cell_type": "code",
   "execution_count": 10,
   "id": "a0183feb",
   "metadata": {},
   "outputs": [
    {
     "name": "stdout",
     "output_type": "stream",
     "text": [
      "--- Training ---\n",
      "Epoch 1/5 | Train Loss: 35.9911, Train Acc: 52.50% | Val Loss: 6.5790, Val Acc: 50.00%\n",
      "Epoch 2/5 | Train Loss: 2.9962, Train Acc: 95.00% | Val Loss: 4.9458, Val Acc: 50.00%\n",
      "Epoch 3/5 | Train Loss: 1.9498, Train Acc: 97.50% | Val Loss: 3.5178, Val Acc: 50.00%\n",
      "Epoch 4/5 | Train Loss: 1.3886, Train Acc: 97.50% | Val Loss: 2.3876, Val Acc: 85.00%\n",
      "Epoch 5/5 | Train Loss: 1.0192, Train Acc: 98.75% | Val Loss: 1.6316, Val Acc: 100.00%\n",
      "~~~~~ Selesi ~~~~~\n"
     ]
    },
    {
     "data": {
      "image/png": "[encoded data removed]",
      "text/plain": [
       "<Figure size 1200x500 with 2 Axes>"
      ]
     },
     "metadata": {},
     "output_type": "display_data"
    },
    {
     "data": {
      "text/plain": [
       "(array([-0.24180165, -0.41690349,  1.1222139 ,  0.82405866]),\n",
       " 0.2577197481284966,\n",
       " [0.4498886551395292,\n",
       "  0.03745191422809949,\n",
       "  0.02437219499639377,\n",
       "  0.017357201678426595,\n",
       "  0.012740158208926562],\n",
       " [0.3289511565546991,\n",
       "  0.24728932330356232,\n",
       "  0.1758916406671348,\n",
       "  0.11938137329297323,\n",
       "  0.08158136941106595],\n",
       " [52.5, 95.0, 97.5, 97.5, 98.75],\n",
       " [50.0, 50.0, 50.0, 85.0, 100.0])"
      ]
     },
     "execution_count": 10,
     "metadata": {},
     "output_type": "execute_result"
    }
   ],
   "source": [
    "Spl(X_train, y_train, X_val, y_val, learningRate=0.1, epoch=5)"
   ]
  }
 ],
 "metadata": {
  "kernelspec": {
   "display_name": "base",
   "language": "python",
   "name": "python3"
  },
  "language_info": {
   "codemirror_mode": {
    "name": "ipython",
    "version": 3
   },
   "file_extension": ".py",
   "mimetype": "text/x-python",
   "name": "python",
   "nbconvert_exporter": "python",
   "pygments_lexer": "ipython3",
   "version": "3.10.9"
  }
 },
 "nbformat": 4,
 "nbformat_minor": 5
}
